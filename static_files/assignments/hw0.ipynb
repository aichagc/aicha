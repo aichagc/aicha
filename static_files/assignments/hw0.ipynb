{
  "cells": [
    {
      "cell_type": "markdown",
      "metadata": {
        "id": "view-in-github",
        "colab_type": "text"
      },
      "source": [
        "<a href=\"https://colab.research.google.com/github/aichagc/aicha/blob/main/static_files/assignments/hw0.ipynb\" target=\"_parent\"><img src=\"https://colab.research.google.com/assets/colab-badge.svg\" alt=\"Open In Colab\"/></a>"
      ]
    },
    {
      "cell_type": "markdown",
      "metadata": {
        "id": "SGIdwIi9WksC"
      },
      "source": [
        "# Devoir 1 &mdash; Algèbre linéaire et manipulation d'images sous Python\n",
        "**Échéance : 16 février 2025 &ndash; 23h59**\n",
        "<br><br>\n",
        "\n",
        "## Récupération des fichiers dans Colab"
      ]
    },
    {
      "cell_type": "code",
      "execution_count": 12,
      "metadata": {
        "id": "A-uZ9Yz7WksF"
      },
      "outputs": [],
      "source": [
        "#\n",
        "# Exécutez cette cellule pour préparer votre environnement Colab.\n",
        "#\n",
        "%%capture\n",
        "!wget https://benhadid.github.io/m1vpo/static_files/assignments/hw0.zip\n",
        "!unzip hw0.zip\n",
        "!mv hw0/* .\n",
        "!rm -rf hw0\n",
        "!rm -rf hw0.zip"
      ]
    },
    {
      "cell_type": "markdown",
      "metadata": {
        "id": "ebDmLhmXWksG"
      },
      "source": [
        "## Initialisation du bloc-notes"
      ]
    },
    {
      "cell_type": "code",
      "execution_count": 13,
      "metadata": {
        "id": "CBt3pF_vWksG"
      },
      "outputs": [],
      "source": [
        "#Importe la fonction print_function à partir de version future de python\n",
        "from __future__ import print_function\n",
        "\n",
        "#Setup\n",
        "\n",
        "# Le module random implémente un générateur de nombres pseudo-aléatoire\n",
        "import random\n",
        "\n",
        "# Numpy est le paquetage principal utilisé pour le calcul scientifique dans Python.\n",
        "# Ce paquetage sera l'une de nos bibliothèques les plus utilisées dans ce cours\n",
        "import numpy as np\n",
        "\n",
        "\n",
        "#Importe toutes les méthodes dans les fichiers: linalg.py et imageManip.py\n",
        "from linalg import *\n",
        "from imageManip import *\n",
        "\n",
        "\n",
        "#Matplotlib est une bibliothèque de traçage(dessin) pour python\n",
        "import matplotlib.pyplot as plt\n",
        "# Le code suivant fait apparaître les figure de matplotlib en ligne dans le\n",
        "# notebook au lieu de lancer une nouvelle fenêtre.\n",
        "%matplotlib inline\n",
        "plt.rcParams['figure.figsize'] = (10.0, 8.0) # fixer les dimensions par défaut des figures\n",
        "plt.rcParams['image.interpolation'] = 'nearest'\n",
        "plt.rcParams['image.cmap'] = 'gray'\n",
        "\n",
        "\n",
        "# Quelques instructions supplémentaires pour que le notebook recharge les modules externes en python;\n",
        "# voir http://stackoverflow.com/questions/1907993/autoreload-of-modules-in-ipython\n",
        "%load_ext autoreload\n",
        "%autoreload 2\n",
        "%reload_ext autoreload"
      ]
    },
    {
      "cell_type": "markdown",
      "metadata": {
        "id": "HYrdi-smWksH"
      },
      "source": [
        "## 1. Description\n",
        "\n",
        "Nous allons explorer dans ce devoir des notions de base d'algèbre linéaire et quelques techniques de manipulation d'images sous Python. Cela permettra de mettre tout le monde à la même page par rapport aux compétences requises pour ce module.\n",
        "\n",
        "Par ailleurs, l'autre objectif de ce devoir est de vous initier/inciter à rechercher sur la toile les fonctionnalités python susceptible de vous aider à résoudre un problème donné. Ainsi, dans de nombreuses fonctions que vous implémenterez ici, vous devez identifier / utiliser les fonctions python qui peuvent vous assister."
      ]
    },
    {
      "cell_type": "markdown",
      "metadata": {
        "tags": [],
        "id": "V0l1V4qhWksI"
      },
      "source": [
        "## 2. Algèbre Linéaire\n",
        "Dans cette section, nous allons revoir quelques notions d'algèbre linéaire et apprendre à manipuler des vecteurs et des matrices en python à l'aide de Numpy. À la fin de cette section, vous aurez implémenté toutes les méthodes requises dans le fichier `linalg.py`."
      ]
    },
    {
      "cell_type": "markdown",
      "metadata": {
        "id": "AKi4FOCPWksI"
      },
      "source": [
        "### Question 2.1\n",
        "En premier lieu, définissez les matrices et vecteurs suivants à l'aide de Numpy. En ce sens, cherchez sur la toile la documentation sur `np.array()`. Dans le bloc de code suivant, définissez $M$ comme une matrice $(4, 3)$, $a$ comme un vecteur ligne $(1, 3)$ et $b$ comme un vecteur colonne $(3, 1)$ :\n",
        "\n",
        "$$\n",
        "M = \\begin{bmatrix}\n",
        "1 & 2 & 3 \\\\\n",
        "4 & 5 & 6 \\\\\n",
        "7 & 8 & 9 \\\\\n",
        "10 & 11 & 12 \\end{bmatrix}\n",
        ", \\qquad\n",
        "a = \\begin{bmatrix}\n",
        "1 & 1 & 0\n",
        "\\end{bmatrix}\n",
        ", \\qquad\n",
        "b = \\begin{bmatrix}\n",
        "-1 \\\\ 2 \\\\ 5\n",
        "\\end{bmatrix}  \n",
        "$$"
      ]
    },
    {
      "cell_type": "code",
      "execution_count": 14,
      "metadata": {
        "scrolled": true,
        "id": "T3gL4TA2WksI",
        "outputId": "c36d0e99-c462-457c-d1cf-fbf39e788774",
        "colab": {
          "base_uri": "https://localhost:8080/"
        }
      },
      "outputs": [
        {
          "output_type": "stream",
          "name": "stdout",
          "text": [
            "M = \n",
            " [[ 1  2  3]\n",
            " [ 4  5  6]\n",
            " [ 7  8  9]\n",
            " [10 11 12]]\n",
            "Dimension de M :  (4, 3)\n",
            "\n",
            "a =  [1 1 0]\n",
            "Dimension de a :  (3,)\n",
            "\n",
            "b =  [[-1]\n",
            " [ 2]\n",
            " [ 5]]\n",
            "Dimension de b :  (3, 1)\n"
          ]
        }
      ],
      "source": [
        "### VOTRE CODE ICI - DEBUT (remplacez l'instruction 'pass' par votre code)\n",
        "import numpy as np\n",
        "\n",
        "\n",
        "M = np.array([\n",
        "    [1, 2, 3],\n",
        "    [4, 5, 6],\n",
        "    [7, 8, 9],\n",
        "    [10, 11, 12]\n",
        "])\n",
        "\n",
        "a = np.array([1, 1, 0])\n",
        "\n",
        "\n",
        "b = np.array([\n",
        "    [-1],\n",
        "    [2],\n",
        "    [5]\n",
        "])\n",
        "\n",
        "\n",
        "### VOTRE CODE ICI - FIN\n",
        "print(\"M = \\n\", M)\n",
        "print(\"Dimension de M : \", M.shape)\n",
        "print()\n",
        "print(\"a = \", a)\n",
        "print(\"Dimension de a : \", a.shape)\n",
        "print()\n",
        "print(\"b = \", b)\n",
        "print(\"Dimension de b : \", b.shape)"
      ]
    },
    {
      "cell_type": "markdown",
      "metadata": {
        "id": "rFGg6krBWksJ"
      },
      "source": [
        "### Question 2.2\n",
        "Implementez la méthode `dot_product()` dans `linalg.py` et vérifiez qu'elle retourne une réponse corrècte pour le produit scalaire $\\: b^T a^T$."
      ]
    },
    {
      "cell_type": "code",
      "execution_count": 17,
      "metadata": {
        "id": "nhxWJJ_2WksJ",
        "outputId": "9ab087fd-b405-4969-83de-81142d0ad1ee",
        "colab": {
          "base_uri": "https://localhost:8080/"
        }
      },
      "outputs": [
        {
          "output_type": "stream",
          "name": "stdout",
          "text": [
            "[[-1  2  5]\n",
            " [-1  2  5]\n",
            " [ 0  0  0]]\n",
            "dimension :  (3, 3)\n"
          ]
        }
      ],
      "source": [
        "# Nous allons tester ici votre implémentation de dot_product(). La réponse corrècte est : [[1]].\n",
        "import numpy as np\n",
        "\n",
        "# Définir la fonction dot_product\n",
        "def dot_product(u, v):\n",
        "    \"\"\"\n",
        "    Calcule le produit scalaire entre les vecteur u et v\n",
        "    on a comme parametres u et v et la fonction retourne un reel float qui est\n",
        "    le produit scalaire\n",
        "    \"\"\"\n",
        "    return np.dot(u.T, v.T)\n",
        "\n",
        "a = np.array([[1, 1, 0]])\n",
        "b = np.array([[-1], [2], [5]])\n",
        "\n",
        "aDotB = dot_product(a, b)\n",
        "\n",
        "aDotB = dot_product(a, b)\n",
        "print(aDotB)\n",
        "\n",
        "print(\"dimension : \", aDotB.shape)"
      ]
    },
    {
      "cell_type": "markdown",
      "metadata": {
        "id": "1cwHZxOZWksJ"
      },
      "source": [
        "### Question 2.3\n",
        "Implémentez la méthode `complicated_matrix_function()` dans `linalg.py` et utilisez là pour calculer le produit $(b^T a^T) M a^T$\n",
        "\n",
        "NOTE IMPORTANTE : La méthode `complicated_matrix_function()` s'attend à ce que toutes les entrées soient des tableaux Numpy bidimensionnels. Ceci est nécessaire car les tableaux Numpy 2D peuvent être transposés, tandis que les tableaux 1D (c.-à-d. les vecteurs) ne peuvent pas être transposés.\n",
        "\n",
        "Pour transposer un tableau bidimensionnel `array`, vous pouvez utiliser la syntaxe `array.T`"
      ]
    },
    {
      "cell_type": "code",
      "execution_count": 18,
      "metadata": {
        "id": "_ynKpo2kWksK",
        "outputId": "2b0b8242-64e1-4803-ba12-16f75502d029",
        "colab": {
          "base_uri": "https://localhost:8080/"
        }
      },
      "outputs": [
        {
          "output_type": "stream",
          "name": "stdout",
          "text": [
            "[[ 3]\n",
            " [ 9]\n",
            " [15]\n",
            " [21]]\n",
            "\n",
            "dimension :  (4, 1)\n"
          ]
        }
      ],
      "source": [
        "# La réponse retournée doit être $[[3], [9], [15], [21]]$ de dimension (4, 1).\n",
        "import numpy as np\n",
        "\n",
        "def complicated_matrix_function(M, a, b):\n",
        "    \"\"\"\n",
        "    ici on calcule le produit (b^T a^T) M a^T.\n",
        "    les parametres ssont M et a et b\n",
        "    et ca retourne le resultat du produiy\n",
        "\n",
        "\n",
        "    \"\"\"\n",
        "\n",
        "    a = np.atleast_2d(a)\n",
        "    b = np.atleast_2d(b)\n",
        "\n",
        "    # calculer le produit dcalaire\n",
        "    bTaT = np.dot(b.T, a.T)\n",
        "\n",
        "    # mltiplier par M\n",
        "    intermediate = bTaT * M\n",
        "\n",
        "    # multiplier par a^T\n",
        "    result = np.dot(intermediate, a.T)\n",
        "\n",
        "    return result\n",
        "\n",
        "\n",
        "# Test 1\n",
        "M = np.array([\n",
        "    [1, 2, 3],\n",
        "    [4, 5, 6],\n",
        "    [7, 8, 9],\n",
        "    [10, 11, 12]\n",
        "])\n",
        "a = np.array([[1, 1, 0]])\n",
        "b = np.array([[-1], [2], [5]])\n",
        "\n",
        "\n",
        "\n",
        "# Test 2\n",
        "M_2 = np.array(range(4)).reshape((2, 2))\n",
        "a_2 = np.array([[1, 1]])  # Vecteur ligne 2D\n",
        "b_2 = np.array([[10, 10]]).T  # Vecteur colonne 2D\n",
        "\n",
        "\n",
        "ans = complicated_matrix_function(M, a, b)\n",
        "print(ans)\n",
        "print()\n",
        "print(\"dimension : \", ans.shape)"
      ]
    },
    {
      "cell_type": "code",
      "execution_count": 19,
      "metadata": {
        "id": "dMJ1-ihAWksK",
        "outputId": "743634bb-7345-40ec-c578-2f57b2331614",
        "colab": {
          "base_uri": "https://localhost:8080/"
        }
      },
      "outputs": [
        {
          "output_type": "stream",
          "name": "stdout",
          "text": [
            "[[ 20]\n",
            " [100]]\n",
            "\n",
            "dimension :  (2, 1)\n"
          ]
        }
      ],
      "source": [
        "M_2 = np.array(range(4)).reshape((2,2))\n",
        "a_2 = np.array([[1,1]])\n",
        "b_2 = np.array([[10, 10]]).T\n",
        "\n",
        "# La réponse retournée doit être $[[20], [100]]$ de dimension (2, 1).\n",
        "ans = complicated_matrix_function(M_2, a_2, b_2)\n",
        "print(ans)\n",
        "print()\n",
        "print(\"dimension : \", ans.shape)"
      ]
    },
    {
      "cell_type": "markdown",
      "metadata": {
        "id": "65j_bPflWksL"
      },
      "source": [
        "### Question 2.4\n",
        "Implémentez les fonctions `svd()` et `get_singular_values()`. Dans `svd()`, vous devez effectuer une décomposition en valeurs singulières ([plus d'info](https://fr.wikipedia.org/wiki/D%C3%A9composition_en_valeurs_singuli%C3%A8res)) de la matrice fournie en entrée. La fonction `get_singular_values()` doit retourner les k plus grandes valeurs singulières (k est donné en paramètre lors d'appels de cette fonction)."
      ]
    },
    {
      "cell_type": "code",
      "execution_count": null,
      "metadata": {
        "id": "1EP22djcWksL"
      },
      "outputs": [],
      "source": [
        "# Renvoyons d'abord la première valeur singulière et affichons la. Elle doit être ~ 25.46.\n",
        "only_first_singular_value = get_singular_values(M, 1)\n",
        "print(only_first_singular_value)\n",
        "\n",
        "# Maintenant, Récupérons les deux premières valeurs singulières.\n",
        "# Notez que la première valeur singulière est beaucoup plus grande que la seconde.\n",
        "first_two_singular_values = get_singular_values(M, 2)\n",
        "print(first_two_singular_values)\n",
        "\n",
        "# Assurons-nous que la première valeur singulière dans les deux appels est la même.\n",
        "assert only_first_singular_value[0] == first_two_singular_values[0]"
      ]
    },
    {
      "cell_type": "markdown",
      "metadata": {
        "id": "FR5qSnl0WksL"
      },
      "source": [
        "### Question 2.5\n",
        "Implementez les méthodes `eigen_decomp()` et `get_eigen_values_and_vectors()`. Vous devez effectuer ici la décomposition en valeurs propres ([plus d'infos](https://fr.wikipedia.org/wiki/D%C3%A9composition_d%27une_matrice_en_%C3%A9l%C3%A9ments_propres)) de la matrice ci-dessous, puis retourner les k plus grandes valeurs propres et vecteurs propres associés.\n",
        "\n",
        "$$M = \\begin{bmatrix}\n",
        "1 & 2 & 3 \\\\\n",
        "4 & 5 & 6 \\\\\n",
        "7 & 8 & 9 \\end{bmatrix}\n",
        "$$\n"
      ]
    },
    {
      "cell_type": "code",
      "execution_count": null,
      "metadata": {
        "id": "cs-f-Rb9WksM"
      },
      "outputs": [],
      "source": [
        "# Commençons par définir la matrice  M.\n",
        "# Appuyez-vous sur votre réponse à la question 1.1 plus haut et remplacez 'pass'\n",
        "# par une instruction corrècte\n",
        "pass\n",
        "\n",
        "# Récupérons maintenant la première valeur propre et le premier vecteur propre.\n",
        "# Votre résultat doit retourner une seule valeur propre et un seul vecteur propre.\n",
        "val, vec = get_eigen_values_and_vectors(M, 1)\n",
        "print(\"Première valeur propre = \", val)\n",
        "print()\n",
        "print(\"Premier vecteur propre = \\n\", vec)\n",
        "print()\n",
        "assert len(vec) == 1\n",
        "\n",
        "# Maintenant, récupérons les deux premières valeurs propres et vecteurs propres.\n",
        "# Votre résultat doit retourner une liste de deux valeurs propres et une liste de deux tableaux (deux vecteurs propres).\n",
        "val, vec = get_eigen_values_and_vectors(M, 2)\n",
        "print(\"Valeurs propres = \", val)\n",
        "print()\n",
        "print(\"Vecteurs propres = \\n\", vec)\n",
        "assert len(vec) == 2"
      ]
    },
    {
      "cell_type": "markdown",
      "metadata": {
        "id": "0AUAN3jZWksM"
      },
      "source": [
        "## 3. Manipulation d'images\n",
        "\n",
        "Dans cette deuxième partie, commençons par charger en mémoire quelques images afin de réaliser des opérations matricielles dessus. A la fin de cette section, vous aurez implémenté toutes les fonctions dans le fichier `imageManip.py`"
      ]
    },
    {
      "cell_type": "code",
      "execution_count": null,
      "metadata": {
        "id": "eaBgN9TxWksM"
      },
      "outputs": [],
      "source": [
        "# Exécutez ce code pour définir les emplacements des images que nous utiliserons.\n",
        "# Vous pouvez modifier ces chemins pour pointer vers vos propres images si vous voulez vous amuser.\n",
        "\n",
        "image1_path = './image1.jpg'\n",
        "image2_path = './image2.jpg'\n",
        "\n",
        "# Définition d'une fonction locale pour\n",
        "# l'affichage d'images dans ce notebook\n",
        "\n",
        "def display(img):\n",
        "    # Show image\n",
        "    plt.figure(figsize = (5,5))\n",
        "    plt.imshow(img)\n",
        "    plt.axis('off')\n",
        "    plt.show()"
      ]
    },
    {
      "cell_type": "markdown",
      "metadata": {
        "id": "OgepmuReWksM"
      },
      "source": [
        "### Question 3.1\n",
        "Implémentez la méthode de chargement `load()` dans `imageManip.py`. Les images chargées seront utilisées dans le reste de ce notebook pour visualiser vos résultats."
      ]
    },
    {
      "cell_type": "code",
      "execution_count": null,
      "metadata": {
        "id": "GjlbjRq4WksM"
      },
      "outputs": [],
      "source": [
        "image1 = load(image1_path)\n",
        "image2 = load(image2_path)\n",
        "\n",
        "display(image1)\n",
        "display(image2)"
      ]
    },
    {
      "cell_type": "markdown",
      "metadata": {
        "id": "zb8Y5HBPWksN"
      },
      "source": [
        "### Question 3.2\n",
        "Implémentez la méthode `dim_image()` qui transforme une image fournie en entrée en utilisant la formule $x_n = 0.5 \\times x_p^2$ pour chaque pixel, où $x_n$ est la nouvelle valeur et $x_p$ est la valeur initiale.\n",
        "\n",
        "**Remarque :** Rappelons que les valeurs d'intensité d'une image en virgule flottante doivent être dans la plage $[0.0, 1.0]$. Ainsi, la formule ci-dessus réduira les valeurs de ces intensités et produira donc une image plus sombre."
      ]
    },
    {
      "cell_type": "code",
      "execution_count": null,
      "metadata": {
        "scrolled": true,
        "id": "lURzodSgWksN"
      },
      "outputs": [],
      "source": [
        "new_image = dim_image(image1)\n",
        "display(new_image)"
      ]
    },
    {
      "cell_type": "markdown",
      "metadata": {
        "id": "7Gfm7mw5WksN"
      },
      "source": [
        "### Question 3.3\n",
        "Implémentez la méthode `convert_to_grey_scale()` pour convertir une image en niveaux de gris (c.f. voir description de la fonction dans le fichier `imageManip.py` pour plus de détails)."
      ]
    },
    {
      "cell_type": "code",
      "execution_count": null,
      "metadata": {
        "id": "wRa2BB2aWksN"
      },
      "outputs": [],
      "source": [
        "grey_image = convert_to_grey_scale(image1)\n",
        "display(grey_image)"
      ]
    },
    {
      "cell_type": "markdown",
      "metadata": {
        "id": "BOfecikpWksN"
      },
      "source": [
        "### Question 3.4\n",
        "\n",
        "Implémentez la méthode `rgb_exclusion()` pour décomposer une image en ces trois canaux R (rouge), G (vert), B (bleu), puis retourner une nouvelle image en excluant le canal spécifié."
      ]
    },
    {
      "cell_type": "code",
      "execution_count": null,
      "metadata": {
        "scrolled": true,
        "id": "a4GH39lFWksN"
      },
      "outputs": [],
      "source": [
        "without_red = rgb_exclusion(image1, 'R')\n",
        "without_blue = rgb_exclusion(image1, 'B')\n",
        "without_green = rgb_exclusion(image1, 'G')\n",
        "\n",
        "print(\"Ci-dessous, l'image n°1 où le canal rouge a été supprimé.\")\n",
        "display(without_red)\n",
        "\n",
        "print(\"Ci-dessous, l'image n°1 où le canal vert a été supprimé.\")\n",
        "display(without_green)\n",
        "\n",
        "print(\"Ci-dessous, l'image n°1 où le canal bleu a été supprimé.\")\n",
        "display(without_blue)"
      ]
    },
    {
      "cell_type": "markdown",
      "metadata": {
        "id": "wbG-JNfbWksN"
      },
      "source": [
        "### Question 3.5\n",
        "Implémentez la méthode `lab_decomposition()` pour décomposer une image en ces trois canaux L*, a*, b*, puis retournez le canal spécifié ([plus d'info](https://fr.wikipedia.org/wiki/L*a*b*_CIE_1976))."
      ]
    },
    {
      "cell_type": "code",
      "execution_count": null,
      "metadata": {
        "scrolled": true,
        "id": "92q7y4uxWksN"
      },
      "outputs": [],
      "source": [
        "image_l = lab_decomposition(image1, 'L')\n",
        "image_a = lab_decomposition(image1, 'A')\n",
        "image_b = lab_decomposition(image1, 'B')\n",
        "\n",
        "print(\"Ci-dessous, le canal L* dans la décomposition L*a*b* de l'image n°1\")\n",
        "display(image_l)\n",
        "\n",
        "print(\"Ci-dessous, le canal a* dans la décomposition L*a*b* de l'image n°1\")\n",
        "display(image_a)\n",
        "\n",
        "print(\"Ci-dessous, le canal b* dans la décomposition L*a*b* de l'image n°1\")\n",
        "display(image_b)"
      ]
    },
    {
      "cell_type": "markdown",
      "metadata": {
        "id": "sx0XFGdyWksO"
      },
      "source": [
        "### Question 3.6\n",
        "Implémentez la méthode `hsv_decomposition()` pour décomposer une image en ces trois canaux H, S, V, puis retournez le canal spécifié ([plus d'info](https://fr.wikipedia.org/wiki/Teinte_Saturation_Valeur))."
      ]
    },
    {
      "cell_type": "code",
      "execution_count": null,
      "metadata": {
        "id": "cF2mSv8XWksO"
      },
      "outputs": [],
      "source": [
        "image_h = hsv_decomposition(image1, 'H')\n",
        "image_s = hsv_decomposition(image1, 'S')\n",
        "image_v = hsv_decomposition(image1, 'V')\n",
        "\n",
        "print(\"Ci-dessous, le canal H dans la décomposition HSV de l'image n°1\")\n",
        "display(image_h)\n",
        "\n",
        "print(\"Ci-dessous, le canal S dans la décomposition HSV de l'image n°1\")\n",
        "display(image_s)\n",
        "\n",
        "print(\"Ci-dessous, le canal V dans la décomposition HSV de l'image n°1\")\n",
        "display(image_v)"
      ]
    },
    {
      "cell_type": "markdown",
      "metadata": {
        "id": "K7mxOxIMWksO"
      },
      "source": [
        "### Question 3.7\n",
        "Dans la méthode `mix_images()`, créez une nouvelle image constituée de la moitié gauche de l'image n°1 et la moitié droite de l'image n°2. Pour chaque image en entrée, vous devez exclure le canal spécifié.\n",
        "\n",
        "Une implémentation correcte devrait afficher la moitié gauche du Mandrill sans le canal rouge et la moitié droite de l'image des maisons sans le canal vert."
      ]
    },
    {
      "cell_type": "code",
      "execution_count": null,
      "metadata": {
        "id": "J9o-pNXbWksO"
      },
      "outputs": [],
      "source": [
        "image_mixed = mix_images(image1, image2, channel1='R', channel2='G')\n",
        "display(image_mixed)\n",
        "\n",
        "#Test de vérification : la somme des pixels de l'image doit être ~76417.51\n",
        "np.sum(image_mixed)"
      ]
    },
    {
      "cell_type": "markdown",
      "metadata": {
        "id": "rPMFZu8hWksO"
      },
      "source": [
        "### Question 3.8\n",
        "\n",
        "Implémentez la fonction `mix_quadrants()` dans `imageManip.py`.\n",
        "Cette fonction prend une image et effectue une opération différente sur chacun des quatre quadrants de l'image. Ensuite, elle combine les quatre quadrants ensemble.\n",
        "\n",
        "Voici les quatre opérations que vous devez effectuer sur les 4 quadrants :\n",
        "- Quadrant supérieur gauche : supprimez le canal \"R\" à l'aide de `rgb_exclusion()`.\n",
        "- Quadrant supérieur droit : atténuez le quadrant à l'aide de `dim_image()`.\n",
        "- Quadrant inférieur gauche : éclaircissez le quadrant à l'aide de la fonction  $x_n = x_p^{0.5}$\n",
        "- Quadrant inférieur droit : supprimez le canal \"R\" à l'aide de `rgb_exclusion()`."
      ]
    },
    {
      "cell_type": "code",
      "execution_count": null,
      "metadata": {
        "id": "Yu3wDLIRWksP"
      },
      "outputs": [],
      "source": [
        "mixed_quadrants = mix_quadrants(image1)\n",
        "display(mixed_quadrants)"
      ]
    },
    {
      "cell_type": "markdown",
      "metadata": {
        "id": "Ep4yyvZ8WksP"
      },
      "source": [
        "## 4. Livrables\n",
        "### 4.1. Le code (à remettre sur [benhadid.ddns.net](https://benhadid.ddns.net/course/M1_VPO/hw0))\n",
        "\n",
        "Le fichier \"devoir1.zip\" contenant les fichiers **`linalg.py`** et **`imageManip.py`** modifiés dans les zones indiquées par `### VOTRE CODE ICI - DEBUT` et `### VOTRE CODE ICI - FIN`.\n",
        "\n",
        "**Le code sera remis <del>en classe pendant votre séance de TP</del> au serveur INGInious - <span style='color:Red'> aucun document ou code ne sera accepté si envoyé par mail ou clé USB</span>**."
      ]
    },
    {
      "cell_type": "code",
      "execution_count": null,
      "metadata": {
        "id": "Fl4TcUyMWksP"
      },
      "outputs": [],
      "source": [
        "# Exécutez cette cellule puis récupérez votre fichier \"devoir1.zip\" depuis le panneau gauche dans Colab\n",
        "# Si nécessaire, faites un 'refresh' sur le répertoire pour faire apparaître le fichier 'devoir1.zip'\n",
        "\n",
        "!zip -r ./devoir1.zip linalg.py imageManip.py"
      ]
    }
  ],
  "metadata": {
    "kernelspec": {
      "display_name": "Python 3",
      "language": "python",
      "name": "python3"
    },
    "language_info": {
      "codemirror_mode": {
        "name": "ipython",
        "version": 3
      },
      "file_extension": ".py",
      "mimetype": "text/x-python",
      "name": "python",
      "nbconvert_exporter": "python",
      "pygments_lexer": "ipython3",
      "version": "3.9.2"
    },
    "vscode": {
      "interpreter": {
        "hash": "916dbcbb3f70747c44a77c7bcd40155683ae19c65e1c03b4aa3499c5328201f1"
      }
    },
    "colab": {
      "provenance": [],
      "include_colab_link": true
    }
  },
  "nbformat": 4,
  "nbformat_minor": 0
}